{
 "cells": [
  {
   "cell_type": "markdown",
   "metadata": {
    "id": "dmbKCuWye-rs"
   },
   "source": [
    "# SVD decomposition with `scipy`"
   ]
  },
  {
   "cell_type": "markdown",
   "metadata": {
    "id": "ApkyicLVc6Tj"
   },
   "source": [
    "Import the required modules"
   ]
  },
  {
   "cell_type": "code",
   "execution_count": 1,
   "metadata": {
    "id": "1rfgleYmcAuo"
   },
   "outputs": [],
   "source": [
    "import scipy.linalg as la\n",
    "import numpy as np"
   ]
  },
  {
   "cell_type": "markdown",
   "metadata": {
    "id": "oUBZbm3pc9zu"
   },
   "source": [
    "Generate a random 5x4 matrix"
   ]
  },
  {
   "cell_type": "code",
   "execution_count": 2,
   "metadata": {
    "id": "HSULhXpXcYXJ"
   },
   "outputs": [
    {
     "data": {
      "text/plain": [
       "array([[0.18951742, 0.51680403, 0.07207526, 0.2084337 ],\n",
       "       [0.12837867, 0.45537122, 0.71805999, 0.69771518],\n",
       "       [0.14642157, 0.02994512, 0.40046591, 0.92171258],\n",
       "       [0.20635292, 0.88406125, 0.15355516, 0.96923424],\n",
       "       [0.88486307, 0.84926127, 0.49064609, 0.4821183 ]])"
      ]
     },
     "execution_count": 2,
     "metadata": {},
     "output_type": "execute_result"
    }
   ],
   "source": [
    "A = np.random.rand(5,4)\n",
    "A"
   ]
  },
  {
   "cell_type": "markdown",
   "metadata": {
    "id": "3a4qVZ5YdHsW"
   },
   "source": [
    "## `<numpy|scipy>.linalg.svd` \n",
    "\n",
    "Equivalent implementations:\n",
    "- https://numpy.org/doc/stable/reference/generated/numpy.linalg.svd.html\n",
    "- https://docs.scipy.org/doc/scipy/reference/generated/scipy.linalg.svd.html\n",
    "\n"
   ]
  },
  {
   "cell_type": "markdown",
   "metadata": {
    "id": "6uj3MxaIeMOw"
   },
   "source": [
    "### Full SVD (`full_matrices = True` - default)\n",
    "\n",
    "**input:**\n",
    "\n",
    "$A \\in \\mathbb{R}^{m\\times n}$\n",
    "\n",
    "**output:**\n",
    "\n",
    "$U \\in \\mathbb{R}^{m\\times m}, S \\in \\mathbb{R}^{m\\times n}, V \\in \\mathbb{R}^{n\\times n}$\n",
    "\n",
    "or, more precisely\n",
    "\n",
    "$\\boldsymbol{\\sigma} \\in \\mathbb{R}^{q} $\n",
    "\n",
    "where $q = \\min(m,n)$.\n"
   ]
  },
  {
   "cell_type": "code",
   "execution_count": 12,
   "metadata": {
    "id": "RPh_IJdscdNb"
   },
   "outputs": [
    {
     "name": "stdout",
     "output_type": "stream",
     "text": [
      "U shape:  (5, 5)\n",
      "s shape:  (4,)\n",
      "VT shape:  (4, 4)\n"
     ]
    }
   ],
   "source": [
    "U, s, VT = np.linalg.svd(A)\n",
    "#U, s, VT = la.svd(A)\n",
    "print('U shape: ', U.shape)\n",
    "print('s shape: ', s.shape)\n",
    "print('VT shape: ', VT.shape)"
   ]
  },
  {
   "cell_type": "markdown",
   "metadata": {
    "id": "dlKu4OF926LD"
   },
   "source": [
    "Build the matrix $S$"
   ]
  },
  {
   "cell_type": "code",
   "execution_count": 13,
   "metadata": {
    "id": "yccHBHngcsri"
   },
   "outputs": [
    {
     "data": {
      "text/plain": [
       "array([[2.2822113 , 0.        , 0.        , 0.        ],\n",
       "       [0.        , 0.84925141, 0.        , 0.        ],\n",
       "       [0.        , 0.        , 0.57382757, 0.        ],\n",
       "       [0.        , 0.        , 0.        , 0.34016314],\n",
       "       [0.        , 0.        , 0.        , 0.        ]])"
      ]
     },
     "execution_count": 13,
     "metadata": {},
     "output_type": "execute_result"
    }
   ],
   "source": [
    "S = np.zeros(A.shape)\n",
    "for i in range(len(s)):\n",
    "    S[i, i] = s[i]\n",
    "S"
   ]
  },
  {
   "cell_type": "code",
   "execution_count": 14,
   "metadata": {
    "id": "fUcq8ihmcxjp"
   },
   "outputs": [
    {
     "data": {
      "text/plain": [
       "array([[2.2822113 , 0.        , 0.        , 0.        ],\n",
       "       [0.        , 0.84925141, 0.        , 0.        ],\n",
       "       [0.        , 0.        , 0.57382757, 0.        ],\n",
       "       [0.        , 0.        , 0.        , 0.34016314],\n",
       "       [0.        , 0.        , 0.        , 0.        ]])"
      ]
     },
     "execution_count": 14,
     "metadata": {},
     "output_type": "execute_result"
    }
   ],
   "source": [
    "S = la.diagsvd(s, A.shape[0], A.shape[1])\n",
    "S"
   ]
  },
  {
   "cell_type": "markdown",
   "metadata": {
    "id": "hQYIgR273C8a"
   },
   "source": [
    "Reconstruct the matrix $A$"
   ]
  },
  {
   "cell_type": "code",
   "execution_count": 16,
   "metadata": {
    "id": "oY02NgbWc1TI"
   },
   "outputs": [
    {
     "name": "stdout",
     "output_type": "stream",
     "text": [
      "err: 7.401386e-16\n"
     ]
    }
   ],
   "source": [
    "A_svd = np.matmul(U, np.matmul(S,VT))\n",
    "print('err: %e' % (la.norm(A - A_svd) / la.norm(A))) # default norm is Frobenius norm"
   ]
  },
  {
   "cell_type": "markdown",
   "metadata": {
    "id": "W1HRvIvrdsOy"
   },
   "source": [
    "### Thin SVD (`full_matrices = False`)\n",
    "\n",
    "**input:**\n",
    "\n",
    "$A \\in \\mathbb{R}^{m\\times n}$\n",
    "\n",
    "**output:**\n",
    "\n",
    "$U \\in \\mathbb{R}^{m\\times q}, S \\in \\mathbb{R}^{q\\times q}, V \\in \\mathbb{R}^{n\\times q}$\n",
    "\n",
    "or, more precisely\n",
    "\n",
    "$\\boldsymbol{\\sigma} \\in \\mathbb{R}^{q} $\n",
    "\n",
    "where $q = \\min(m,n)$.\n",
    "\n"
   ]
  },
  {
   "cell_type": "code",
   "execution_count": 17,
   "metadata": {},
   "outputs": [],
   "source": [
    "del U, s, S, VT"
   ]
  },
  {
   "cell_type": "code",
   "execution_count": 18,
   "metadata": {
    "id": "7toKBuE-dvEL"
   },
   "outputs": [
    {
     "name": "stdout",
     "output_type": "stream",
     "text": [
      "U shape:  (5, 4)\n",
      "s shape:  (4,)\n",
      "VT shape:  (4, 4)\n"
     ]
    }
   ],
   "source": [
    "U, s, VT = la.svd(A, full_matrices = False)\n",
    "print('U shape: ', U.shape)\n",
    "print('s shape: ', s.shape)\n",
    "print('VT shape: ', VT.shape)"
   ]
  },
  {
   "cell_type": "markdown",
   "metadata": {
    "id": "4afloZj529Ps"
   },
   "source": [
    "Build the matrix $S$"
   ]
  },
  {
   "cell_type": "code",
   "execution_count": 19,
   "metadata": {
    "id": "iml2ixlfd27M"
   },
   "outputs": [
    {
     "data": {
      "text/plain": [
       "array([[2.2822113 , 0.        , 0.        , 0.        ],\n",
       "       [0.        , 0.84925141, 0.        , 0.        ],\n",
       "       [0.        , 0.        , 0.57382757, 0.        ],\n",
       "       [0.        , 0.        , 0.        , 0.34016314]])"
      ]
     },
     "execution_count": 19,
     "metadata": {},
     "output_type": "execute_result"
    }
   ],
   "source": [
    "S = np.diag(s)\n",
    "S"
   ]
  },
  {
   "cell_type": "markdown",
   "metadata": {
    "id": "efXGNZqD2-XD"
   },
   "source": [
    "Reconstruct the matrix $A$"
   ]
  },
  {
   "cell_type": "code",
   "execution_count": 20,
   "metadata": {
    "id": "RVDQYJNJd6ot"
   },
   "outputs": [
    {
     "name": "stdout",
     "output_type": "stream",
     "text": [
      "err: 7.401386e-16\n"
     ]
    }
   ],
   "source": [
    "A_svd = np.matmul(U, np.matmul(S,VT))\n",
    "print('err: %e' % (la.norm(A - A_svd) / la.norm(A)))"
   ]
  }
 ],
 "metadata": {
  "colab": {
   "authorship_tag": "ABX9TyPGpgzn/OLfzMVbm125sj7o",
   "name": "basics_svd.ipynb",
   "provenance": []
  },
  "kernelspec": {
   "display_name": "Python 3 (ipykernel)",
   "language": "python",
   "name": "python3"
  },
  "language_info": {
   "codemirror_mode": {
    "name": "ipython",
    "version": 3
   },
   "file_extension": ".py",
   "mimetype": "text/x-python",
   "name": "python",
   "nbconvert_exporter": "python",
   "pygments_lexer": "ipython3",
   "version": "3.11.0"
  }
 },
 "nbformat": 4,
 "nbformat_minor": 1
}
