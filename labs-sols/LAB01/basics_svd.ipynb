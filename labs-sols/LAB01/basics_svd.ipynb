{
 "cells": [
  {
   "cell_type": "markdown",
   "metadata": {
    "id": "dmbKCuWye-rs"
   },
   "source": [
    "# SVD decomposition with `scipy`"
   ]
  },
  {
   "cell_type": "markdown",
   "metadata": {
    "id": "ApkyicLVc6Tj"
   },
   "source": [
    "Import the required modules"
   ]
  },
  {
   "cell_type": "code",
   "execution_count": null,
   "metadata": {
    "id": "1rfgleYmcAuo"
   },
   "outputs": [],
   "source": [
    "import scipy.linalg as la\n",
    "import numpy as np"
   ]
  },
  {
   "cell_type": "markdown",
   "metadata": {
    "id": "oUBZbm3pc9zu"
   },
   "source": [
    "Generate a random 5x4 matrix"
   ]
  },
  {
   "cell_type": "code",
   "execution_count": null,
   "metadata": {
    "id": "HSULhXpXcYXJ"
   },
   "outputs": [],
   "source": [
    "A = np.random.rand(5,4)\n",
    "A"
   ]
  },
  {
   "cell_type": "markdown",
   "metadata": {
    "id": "3a4qVZ5YdHsW"
   },
   "source": [
    "## `<numpy|scipy>.linalg.svd` \n",
    "\n",
    "Equivalent implementations:\n",
    "- https://numpy.org/doc/stable/reference/generated/numpy.linalg.svd.html\n",
    "- https://docs.scipy.org/doc/scipy/reference/generated/scipy.linalg.svd.html\n",
    "\n"
   ]
  },
  {
   "cell_type": "markdown",
   "metadata": {
    "id": "6uj3MxaIeMOw"
   },
   "source": [
    "### Full SVD (`full_matrices = True` - default)\n",
    "\n",
    "**input:**\n",
    "\n",
    "$A \\in \\mathbb{R}^{m\\times n}$\n",
    "\n",
    "**output:**\n",
    "\n",
    "$U \\in \\mathbb{R}^{m\\times m}, S \\in \\mathbb{R}^{m\\times n}, V \\in \\mathbb{R}^{n\\times n}$\n",
    "\n",
    "or, more precisely\n",
    "\n",
    "$\\boldsymbol{\\sigma} \\in \\mathbb{R}^{q} $\n",
    "\n",
    "where $q = \\min(m,n)$.\n"
   ]
  },
  {
   "cell_type": "code",
   "execution_count": null,
   "metadata": {
    "id": "RPh_IJdscdNb"
   },
   "outputs": [],
   "source": [
    "U, s, VT = np.linalg.svd(A)\n",
    "#U, s, VT = la.svd(A)\n",
    "print('U shape: ', U.shape)\n",
    "print('s shape: ', s.shape)\n",
    "print('VT shape: ', VT.shape)"
   ]
  },
  {
   "cell_type": "markdown",
   "metadata": {
    "id": "dlKu4OF926LD"
   },
   "source": [
    "Build the matrix $S$"
   ]
  },
  {
   "cell_type": "code",
   "execution_count": null,
   "metadata": {
    "id": "yccHBHngcsri"
   },
   "outputs": [],
   "source": [
    "S = np.zeros(A.shape)\n",
    "for i in range(len(s)):\n",
    "    S[i, i] = s[i]\n",
    "S"
   ]
  },
  {
   "cell_type": "code",
   "execution_count": null,
   "metadata": {
    "id": "fUcq8ihmcxjp"
   },
   "outputs": [],
   "source": [
    "S = la.diagsvd(s, A.shape[0], A.shape[1])\n",
    "S"
   ]
  },
  {
   "cell_type": "markdown",
   "metadata": {
    "id": "hQYIgR273C8a"
   },
   "source": [
    "Reconstruct the matrix $A$"
   ]
  },
  {
   "cell_type": "code",
   "execution_count": null,
   "metadata": {
    "id": "oY02NgbWc1TI"
   },
   "outputs": [],
   "source": [
    "A_svd = np.matmul(U, np.matmul(S,VT))\n",
    "print('err: %e' % (la.norm(A - A_svd) / la.norm(A)))"
   ]
  },
  {
   "cell_type": "markdown",
   "metadata": {
    "id": "W1HRvIvrdsOy"
   },
   "source": [
    "### Thin SVD (`full_matrices = False`)\n",
    "\n",
    "**input:**\n",
    "\n",
    "$A \\in \\mathbb{R}^{m\\times n}$\n",
    "\n",
    "**output:**\n",
    "\n",
    "$U \\in \\mathbb{R}^{m\\times q}, S \\in \\mathbb{R}^{q\\times q}, V \\in \\mathbb{R}^{n\\times q}$\n",
    "\n",
    "or, more precisely\n",
    "\n",
    "$\\boldsymbol{\\sigma} \\in \\mathbb{R}^{q} $\n",
    "\n",
    "where $q = \\min(m,n)$.\n",
    "\n"
   ]
  },
  {
   "cell_type": "code",
   "execution_count": null,
   "metadata": {
    "id": "7toKBuE-dvEL"
   },
   "outputs": [],
   "source": [
    "del U, s, S, VT\n",
    "U, s, VT = la.svd(A, full_matrices = False)\n",
    "print('U shape: ', U.shape)\n",
    "print('s shape: ', s.shape)\n",
    "print('VT shape: ', VT.shape)"
   ]
  },
  {
   "cell_type": "markdown",
   "metadata": {
    "id": "4afloZj529Ps"
   },
   "source": [
    "Build the matrix $S$"
   ]
  },
  {
   "cell_type": "code",
   "execution_count": null,
   "metadata": {
    "id": "iml2ixlfd27M"
   },
   "outputs": [],
   "source": [
    "S = np.diag(s)\n",
    "S"
   ]
  },
  {
   "cell_type": "markdown",
   "metadata": {
    "id": "efXGNZqD2-XD"
   },
   "source": [
    "Reconstruct the matrix $A$"
   ]
  },
  {
   "cell_type": "code",
   "execution_count": null,
   "metadata": {
    "id": "RVDQYJNJd6ot"
   },
   "outputs": [],
   "source": [
    "A_svd = np.matmul(U, np.matmul(S,VT))\n",
    "print('err: %e' % (la.norm(A - A_svd) / la.norm(A)))"
   ]
  }
 ],
 "metadata": {
  "colab": {
   "authorship_tag": "ABX9TyPGpgzn/OLfzMVbm125sj7o",
   "name": "basics_svd.ipynb",
   "provenance": []
  },
  "kernelspec": {
   "display_name": "Python 3 (ipykernel)",
   "language": "python",
   "name": "python3"
  },
  "language_info": {
   "codemirror_mode": {
    "name": "ipython",
    "version": 3
   },
   "file_extension": ".py",
   "mimetype": "text/x-python",
   "name": "python",
   "nbconvert_exporter": "python",
   "pygments_lexer": "ipython3",
   "version": "3.9.13"
  }
 },
 "nbformat": 4,
 "nbformat_minor": 1
}
